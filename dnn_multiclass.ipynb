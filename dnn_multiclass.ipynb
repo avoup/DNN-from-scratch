{
 "cells": [
  {
   "cell_type": "markdown",
   "id": "541af361-f362-487c-b15c-f607a982246f",
   "metadata": {},
   "source": [
    "# Multiclass classification with deep neural networks\n",
    "This is deep neural network implementation from scratch, without using any machine learning libraries.\n",
    "\n",
    "The dataset used is MNIST dataset of handwritten images."
   ]
  },
  {
   "cell_type": "markdown",
   "id": "7526df53-9604-48df-b38f-7e3003bc4fb6",
   "metadata": {},
   "source": [
    "## Table of Contents\n",
    "- [1 - Load data](#1)\n",
    "- [2 - Initialize Parameters](#2)\n",
    "- [3 - Cost Function](#3)\n",
    "- [4 - Activation Function](#4)\n",
    "- [5 - Forward Propagation](#5)\n",
    "- [6 - Backward Propagation](#6)\n",
    "- [7 - Update Parameters](#7)\n",
    "- [8 - Train Model](#8)\n",
    "- [9 - Predict](#9)\n",
    "- [10 - Print Images](#10)"
   ]
  },
  {
   "cell_type": "code",
   "execution_count": 1,
   "id": "1d146ab8-0a15-40bb-a251-00fc072193f1",
   "metadata": {},
   "outputs": [],
   "source": [
    "import numpy as np\n",
    "from PIL import Image\n",
    "import matplotlib.pyplot as plt\n",
    "from utils import * \n",
    "\n",
    "np.random.seed(1)"
   ]
  },
  {
   "cell_type": "markdown",
   "id": "43391347-9a10-4600-8408-546a02db5478",
   "metadata": {},
   "source": [
    "<a name='1'></a>\n",
    "### Load data\n",
    "Dataset contains training and test sets.\n",
    "Each example is flattened `28x28` greyscale image of with shape `784 (28 * 28)`.\n",
    "\n",
    "By default label set is a vector that contains single digit from `0` to `9`. \n",
    "In order to make it work first we need to expand this into a 10 dimensional matrix\n",
    "e.g if the label is `4` we expand it to be `[0, 0, 0, 0, 1, 0, 0, 0, 0, 0]`\n",
    "After this the label set shape will become `10 x 60000`"
   ]
  },
  {
   "cell_type": "code",
   "execution_count": 2,
   "id": "c2726339-25e7-46fa-bf5f-b3d28ccaf8ab",
   "metadata": {},
   "outputs": [
    {
     "name": "stdout",
     "output_type": "stream",
     "text": [
      "Number of training examples:  60000\n",
      "Number of testing examples:   10000\n",
      "------\n",
      "Flattened image size:         784\n",
      "------\n",
      "x_train shape:                (784, 60000)\n",
      "y_train shape initial:        (1, 60000)\n",
      "------\n",
      "y_train shape expanded:       (10, 60000)\n",
      "------\n",
      "x_test shape:                 (784, 10000)\n",
      "y_test shape:                 (1, 10000)\n"
     ]
    }
   ],
   "source": [
    "x_train, y_train_raw, x_test, y_test = load_mnist() # Load mnist dataset\n",
    "\n",
    "m_train = x_train.shape[1] # Number of examples\n",
    "num_px = x_train.shape[0] # Number of input elements\n",
    "m_test = x_test.shape[1] # Number of test examples\n",
    "\n",
    "# Normalize pixel values\n",
    "x_train = x_train/255.\n",
    "x_test = x_test/255.\n",
    "\n",
    "# Expand Y values to vectors\n",
    "# e.g. 4 will become [0, 0, 0, 0, 1, 0, 0, 0, 0, 0]\n",
    "y_train = np.zeros((10, y_train_raw.shape[1]))\n",
    "m = list(range(y_train_raw.shape[1]))\n",
    "n = list(y_train_raw.squeeze())\n",
    "y_train[n[:], m[:]] = 1\n",
    "\n",
    "print ('Number of training examples: ', m_train)\n",
    "print ('Number of testing examples:  ', m_test)\n",
    "print ('------')\n",
    "print ('Flattened image size:        ', num_px)\n",
    "print ('------')\n",
    "print ('x_train shape:               ', x_train.shape)\n",
    "print ('y_train shape initial:       ', y_train_raw.shape)\n",
    "print ('------')\n",
    "print ('y_train shape expanded:      ', y_train.shape)\n",
    "print ('------')\n",
    "print ('x_test shape:                ', x_test.shape)\n",
    "print ('y_test shape:                ', y_test.shape)"
   ]
  },
  {
   "cell_type": "markdown",
   "id": "b0c5c767-2bda-443a-be81-1cd21a8be1ec",
   "metadata": {},
   "source": [
    "## Functions "
   ]
  },
  {
   "cell_type": "markdown",
   "id": "75b74188-3068-4d43-9edc-bd2b1264cdc5",
   "metadata": {},
   "source": [
    "<a name='2'></a>\n",
    "### Initialize Parameters"
   ]
  },
  {
   "cell_type": "code",
   "execution_count": 3,
   "id": "46bc8204-6f50-4bf4-98e8-3884b92f7870",
   "metadata": {},
   "outputs": [],
   "source": [
    "def initialize_parameters(dims):\n",
    "    \"\"\"\n",
    "    Initializes parameters\n",
    "        Wl -- to random values\n",
    "        bl -- to zeros\n",
    "        \n",
    "    Arguments:\n",
    "        dims -- list of layer sizes\n",
    "    \n",
    "    Returns:\n",
    "        parameters\n",
    "            Wl -- weights matrix, shape (current layer nodes, previous layer nodes)\n",
    "            bl -- biases vector, shape (current layer nodes, 1)\n",
    "    \"\"\"\n",
    "    np.random.seed(1)\n",
    "    parameters = {}\n",
    "    L = len(dims) # Number of layers\n",
    "\n",
    "    for l in range(1, L):\n",
    "        parameters['W' + str(l)] = np.random.randn(dims[l], dims[l-1]) / np.sqrt(dims[l-1])\n",
    "        parameters['b' + str(l)] = np.zeros((dims[l], 1))\n",
    "        \n",
    "        assert(parameters['W' + str(l)].shape == (dims[l], dims[l-1]))\n",
    "        assert(parameters['b' + str(l)].shape == (dims[l], 1))\n",
    "        \n",
    "    return parameters"
   ]
  },
  {
   "cell_type": "markdown",
   "id": "50d857a2-15cf-455a-959f-cc89e734170b",
   "metadata": {},
   "source": [
    "<a name='3'></a>\n",
    "## Cost Function\n",
    "\n",
    "Compute the cross-entropy cost $J$, using the following formula: $$-\\frac{1}{m} \\sum\\limits_{i = 1}^{m} (y^{(i)}\\log\\left(a^{[L] (i)}\\right) + (1-y^{(i)})\\log\\left(1- a^{[L](i)}\\right)) \\tag{1}$$\n"
   ]
  },
  {
   "cell_type": "code",
   "execution_count": 61,
   "id": "0f621bdd-5b33-4f59-9d3f-2a0ca9f3f0a2",
   "metadata": {},
   "outputs": [],
   "source": [
    "def compute_cost(AL, Y):\n",
    "    \"\"\"\n",
    "    Computes the cost\n",
    "\n",
    "    Arguments:\n",
    "        AL -- output vector(predictions), shape (number of classes, number of examples)\n",
    "        Y -- actual values matrix, shape (number of classes, number of examples)\n",
    "\n",
    "    Returns:\n",
    "        cost -- cross-entropy cost\n",
    "    \"\"\"\n",
    "    \n",
    "    m = Y.shape[1]\n",
    "    \n",
    "#     cost = (1./m) * np.sum(-np.dot(Y, np.log(AL).T) - np.dot(1-Y, np.log(1-AL).T), keepdims=True)\n",
    "\n",
    "    cost = -(1./m) * np.sum((Y, np.log(AL)) + (1-Y, np.log(1-AL)), keepdims=True)\n",
    "    \n",
    "    print(cost.shape)\n",
    "    cost = np.squeeze(cost)    \n",
    "    \n",
    "#     assert cost.shape == (), 'cost value should be a scalar'\n",
    "    \n",
    "    return cost"
   ]
  },
  {
   "cell_type": "markdown",
   "id": "6d2b52f2-446e-4672-9e19-5bd6e77f006e",
   "metadata": {},
   "source": [
    "<a name='4'></a>\n",
    "### Activation Function\n",
    "\n",
    "In this notebook, you will use two activation functions:\n",
    "\n",
    "- **Sigmoid**: $\\sigma(Z) = \\sigma(W A + b) = \\frac{1}{ 1 + e^{-(W A + b)}}$.\n",
    "\n",
    "\n",
    "\n",
    "- **ReLU**: $A = RELU(Z) = max(0, Z)$. \n",
    "\n",
    "\n",
    "- **`sigmoid_backward`**: Implements the backward propagation for SIGMOID unit.\n",
    "\n",
    "- **`relu_backward`**: Implements the backward propagation for RELU unit.\n",
    "\n",
    "If $g(.)$ is the activation function, \n",
    "`sigmoid_backward` and `relu_backward` compute $$dZ^{[l]} = dA^{[l]} * g'(Z^{[l]}). \\tag{2}$$  \n"
   ]
  },
  {
   "cell_type": "code",
   "execution_count": 5,
   "id": "4294f1e2-f9b1-4417-b68a-3b018e7ecee1",
   "metadata": {},
   "outputs": [],
   "source": [
    "def sigmoid(Z):\n",
    "    \"\"\"\n",
    "    Calculates sigmoid of any input\n",
    "    \n",
    "    Arguments:\n",
    "        Z -- numpy array of any shape\n",
    "    \n",
    "    Returns:\n",
    "        A -- sigmoid of input Z, shape (same as Z)\n",
    "        cache -- returns Z for caching, useful in backpropagation\n",
    "    \"\"\"\n",
    "    \n",
    "    A = 1/(1+np.exp(-Z))\n",
    "    cache = Z\n",
    "    \n",
    "    return A, cache\n",
    "\n",
    "def relu(Z):\n",
    "    \"\"\"\n",
    "    Calculates RELU.\n",
    "\n",
    "    Arguments:\n",
    "        Z -- numpy array of any shape\n",
    "\n",
    "    Returns:\n",
    "        A -- Activation of Z\n",
    "        cache -- returns Z for caching, useful in backpropagation\n",
    "    \"\"\"\n",
    "    \n",
    "    A = np.maximum(0,Z)\n",
    "    \n",
    "    assert A.shape == Z.shape, 'A should be same shape as Z'\n",
    "    \n",
    "    cache = Z \n",
    "    return A, cache\n",
    "\n",
    "\n",
    "def relu_backward(dA, cache):\n",
    "    \"\"\"\n",
    "    Calculates the backward propagation for a single RELU unit.\n",
    "\n",
    "    Arguments:\n",
    "        dA -- post-activation gradient, of any shape\n",
    "        cache -- returns Z for caching, useful in backpropagation\n",
    "\n",
    "    Returns:\n",
    "        dZ -- Gradient of the cost with respect to Z\n",
    "    \"\"\"\n",
    "    \n",
    "    Z = cache\n",
    "    dZ = np.array(dA, copy=True) # convert dz to a numpy array.\n",
    "    \n",
    "    # When z <= 0, set dz to 0 as well. \n",
    "    dZ[Z <= 0] = 0\n",
    "    \n",
    "    assert dZ.shape == Z.shape, 'dZ should be the same shape as Z'\n",
    "    \n",
    "    return dZ\n",
    "\n",
    "def sigmoid_backward(dA, cache):\n",
    "    \"\"\"\n",
    "    Calculates the backward propagation for a single SIGMOID unit.\n",
    "\n",
    "    Arguments:\n",
    "        dA -- post-activation gradient, of any shape\n",
    "        cache -- returns Z for caching, useful in backpropagation\n",
    "\n",
    "    Returns:\n",
    "        dZ -- Gradient of the cost with respect to Z\n",
    "    \"\"\"\n",
    "    \n",
    "    Z = cache\n",
    "    \n",
    "    s = 1/(1+np.exp(-Z))\n",
    "    dZ = dA * s * (1-s)\n",
    "    \n",
    "    assert dZ.shape == Z.shape, 'dZ should be the same shape as Z'\n",
    "    \n",
    "    return dZ"
   ]
  },
  {
   "cell_type": "markdown",
   "id": "70b60ac5-49cc-414a-b848-3d3027f10770",
   "metadata": {},
   "source": [
    "<a name='5'></a>\n",
    "## Forward Propagation\n",
    "Calculate forward propagation:\n",
    "\n",
    "$$Z^{[l]} = W^{[l]}A^{[l-1]} +b^{[l]}\\tag{3}$$\n",
    "Followed by an activation.\n",
    "\n"
   ]
  },
  {
   "cell_type": "code",
   "execution_count": 6,
   "id": "afb15cb9-26dd-47a4-a3e1-28af07a88a22",
   "metadata": {},
   "outputs": [],
   "source": [
    "def forward_pass(A_prev, W, b, activation):\n",
    "    \"\"\"\n",
    "    Calculates activations of Z and passes to the next layer.\n",
    "    \n",
    "    Arguments:\n",
    "        A_prev -- activations of previous layer\n",
    "        W -- weight matrix of the current layer\n",
    "        b -- bias values of the current layer\n",
    "        activation -- type of activation function\n",
    "    \"\"\"\n",
    "    activation = activation.lower()\n",
    "    assert activation == 'relu' or activation == 'sigmoid', \"activation should be either 'relu', or 'sigmoid'\"\n",
    "    \n",
    "    Z = W.dot(A_prev) + b\n",
    "    assert Z.shape == (W.shape[0], A_prev.shape[1]), 'wrong Z shape'\n",
    "\n",
    "    linear_cache = (A_prev, W, b)   \n",
    "    \n",
    "    if activation == \"sigmoid\":\n",
    "        A, activation_cache = sigmoid(Z)    \n",
    "    elif activation == \"relu\":\n",
    "        A, activation_cache = relu(Z)\n",
    "    \n",
    "    assert A.shape == (W.shape[0], A_prev.shape[1]), 'wrong A shape'\n",
    "    \n",
    "    cache = (linear_cache, activation_cache)\n",
    "\n",
    "    return A, cache"
   ]
  },
  {
   "cell_type": "code",
   "execution_count": 7,
   "id": "88e3dbee-2709-4f24-a4be-4ed7c77b122c",
   "metadata": {},
   "outputs": [],
   "source": [
    "def forward_propagate(X, parameters):\n",
    "    \"\"\"\n",
    "    Propagates forward.\n",
    "    \n",
    "    Arguments:\n",
    "        X -- numpy array of input data, shape (number of examples, input size)\n",
    "        parameters -- initialized parameters\n",
    "    \n",
    "    Returns:\n",
    "        AL -- output layer of predictions\n",
    "        caches -- list of caches containing:\n",
    "                    cache of relu activations\n",
    "                    cache of sigmoid activation of output layer\n",
    "    \"\"\"\n",
    "\n",
    "    caches = []\n",
    "    A = X\n",
    "    L = len(parameters) // 2 # number of layers\n",
    "    \n",
    "    for l in range(1, L):\n",
    "        A_prev = A \n",
    "        A, cache = forward_pass(A_prev, parameters['W' + str(l)], parameters['b' + str(l)], activation = \"relu\")\n",
    "        caches.append(cache)        \n",
    "    \n",
    "    AL, cache = forward_pass(A, parameters['W' + str(L)], parameters['b' + str(L)], activation = \"sigmoid\")\n",
    "    caches.append(cache)\n",
    "\n",
    "    assert AL.shape == (dims[len(dims) - 1],X.shape[1]), 'wrong output layer shape'\n",
    "\n",
    "    return AL, caches"
   ]
  },
  {
   "cell_type": "markdown",
   "id": "e9dc3620-4af5-4fbb-895e-db28de3c9bcb",
   "metadata": {},
   "source": [
    "<a name='6'></a>\n",
    "### Backward Propagation\n",
    "\n",
    "For layer $l$, the linear part is: $Z^{[l]} = W^{[l]} A^{[l-1]} + b^{[l]}$ (followed by an activation).\n",
    "\n",
    "Suppose you have already calculated the derivative $dZ^{[l]} = \\frac{\\partial \\mathcal{L} }{\\partial Z^{[l]}}$. You want to get $(dW^{[l]}, db^{[l]}, dA^{[l-1]})$.\n",
    "\n",
    "\n",
    "The three outputs $(dW^{[l]}, db^{[l]}, dA^{[l-1]})$ are computed using the input $dZ^{[l]}$.\n",
    "\n",
    "$$ dW^{[l]} = \\frac{\\partial \\mathcal{J} }{\\partial W^{[l]}} = \\frac{1}{m} dZ^{[l]} A^{[l-1] T} \\tag{4}$$\n",
    "$$ db^{[l]} = \\frac{\\partial \\mathcal{J} }{\\partial b^{[l]}} = \\frac{1}{m} \\sum_{i = 1}^{m} dZ^{[l](i)}\\tag{5}$$\n",
    "$$ dA^{[l-1]} = \\frac{\\partial \\mathcal{L} }{\\partial A^{[l-1]}} = W^{[l] T} dZ^{[l]} \\tag{6}$$"
   ]
  },
  {
   "cell_type": "markdown",
   "id": "46f318aa-1360-4e12-9ceb-1b707e2c5ee9",
   "metadata": {},
   "source": [
    "Pass parameters back by one layer"
   ]
  },
  {
   "cell_type": "code",
   "execution_count": 8,
   "id": "f4f45009-52b6-48ee-b88b-c4fc5dd305f8",
   "metadata": {},
   "outputs": [],
   "source": [
    "def backward_pass(dA, cache, activation):\n",
    "    \"\"\"\n",
    "    Calculates derivative of activations and passes to the previous layer.\n",
    "    \n",
    "    Arguments:\n",
    "        dA -- post-activation gradient of the current layer\n",
    "        cache -- tuple of caches (linear_cache, activation_cache), saved during forward propagation\n",
    "        activation -- name of activation function\n",
    "    \n",
    "    Returns:\n",
    "        dA_prev -- Gradient of the cost with respect to the activation of the previous layer, same shape as A_prev\n",
    "        dW -- Gradient of the cost with respect to W, same shape as W\n",
    "        db -- Gradient of the cost with respect to b, same shape as b\n",
    "    \"\"\"\n",
    "    linear_cache, activation_cache = cache\n",
    "        \n",
    "    A_prev, W, b = linear_cache\n",
    "    m = A_prev.shape[1]    \n",
    "    \n",
    "    if activation == \"relu\":\n",
    "        dZ = relu_backward(dA, activation_cache)        \n",
    "    elif activation == \"sigmoid\":\n",
    "        dZ = sigmoid_backward(dA, activation_cache)\n",
    "\n",
    "    dW = 1./m * np.dot(dZ,A_prev.T)\n",
    "    db = 1./m * np.sum(dZ, axis = 1, keepdims = True)\n",
    "    dA_prev = np.dot(W.T,dZ)\n",
    "    \n",
    "    return dA_prev, dW, db"
   ]
  },
  {
   "cell_type": "markdown",
   "id": "f9ffb706-b532-4849-86a0-c1b6923760bf",
   "metadata": {},
   "source": [
    "Backward propagate through all the layers"
   ]
  },
  {
   "cell_type": "code",
   "execution_count": 9,
   "id": "3238b4aa-b699-4cfd-82bc-74210a994910",
   "metadata": {},
   "outputs": [],
   "source": [
    "def backward_propagate(AL, Y, caches):\n",
    "    \"\"\"\n",
    "    Propagates backwards\n",
    "    \n",
    "    Arguments:\n",
    "        AL -- output layer predictions\n",
    "        Y -- actual values\n",
    "        caches -- list of caches containing:\n",
    "                    cache of relu activations\n",
    "                    cache of sigmoid activations of the last layer\n",
    "    \n",
    "    Returns:\n",
    "        grads -- A dictionary of gradients 'dA', 'dW', 'db'\n",
    "\n",
    "    \"\"\"\n",
    "    grads = {}\n",
    "    L = len(caches) # number of layers\n",
    "    m = AL.shape[1]\n",
    "    Y = Y.reshape(AL.shape)\n",
    "    \n",
    "    # Initialize the backpropagation\n",
    "    dAL = - (np.divide(Y, AL) - np.divide(1 - Y, 1 - AL))\n",
    "    \n",
    "    current_cache = caches[L-1]\n",
    "    grads[\"dA\" + str(L-1)], grads[\"dW\" + str(L)], grads[\"db\" + str(L)] = backward_pass(dAL, current_cache, activation = \"sigmoid\")\n",
    "\n",
    "    for l in reversed(range(L-1)):\n",
    "        current_cache = caches[l]\n",
    "        dA_prev_temp, dW_temp, db_temp = backward_pass(grads[\"dA\" + str(l + 1)], current_cache, activation = \"relu\")\n",
    "        grads[\"dA\" + str(l)] = dA_prev_temp\n",
    "        grads[\"dW\" + str(l + 1)] = dW_temp\n",
    "        grads[\"db\" + str(l + 1)] = db_temp\n",
    "\n",
    "    return grads"
   ]
  },
  {
   "cell_type": "markdown",
   "id": "c80844b5-76e7-4230-bc42-487075a08931",
   "metadata": {},
   "source": [
    "<a name='7'></a>\n",
    "### Update Parameters\n",
    "\n",
    "Update the parameters of the model, using gradient descent: \n",
    "\n",
    "$$ W^{[l]} = W^{[l]} - \\alpha \\text{ } dW^{[l]} \\tag{8}$$\n",
    "$$ b^{[l]} = b^{[l]} - \\alpha \\text{ } db^{[l]} \\tag{9}$$\n",
    "\n",
    "where $\\alpha$ is the learning rate. \n",
    "\n",
    "After computing the updated parameters, store them in the parameters dictionary. "
   ]
  },
  {
   "cell_type": "code",
   "execution_count": 10,
   "id": "bad31731-6938-42ba-afd5-527e96746b01",
   "metadata": {},
   "outputs": [],
   "source": [
    "def update_parameters(parameters, grads, learning_rate):\n",
    "    \"\"\"\n",
    "    Update parameters.\n",
    "    \n",
    "    Arguments:\n",
    "        parameters -- dictionary of parameters \n",
    "        grads -- dictionary of gradients\n",
    "    \n",
    "    Returns:\n",
    "        parameters -- dictionary of updated parameters 'W' and 'b'\n",
    "    \"\"\"\n",
    "    \n",
    "    L = len(parameters) // 2 # number of layers\n",
    "\n",
    "    for l in range(L):\n",
    "        parameters[\"W\" + str(l+1)] = parameters[\"W\" + str(l+1)] - learning_rate * grads[\"dW\" + str(l+1)]\n",
    "        parameters[\"b\" + str(l+1)] = parameters[\"b\" + str(l+1)] - learning_rate * grads[\"db\" + str(l+1)]\n",
    "        \n",
    "    return parameters"
   ]
  },
  {
   "cell_type": "markdown",
   "id": "bc77d179-1bdd-40f7-bb86-6ac02933247f",
   "metadata": {},
   "source": [
    "<a name='8'></a>\n",
    "### Train Model\n",
    "\n",
    "User above defined functions to train a model"
   ]
  },
  {
   "cell_type": "code",
   "execution_count": 11,
   "id": "70c17eb1-949f-4ad3-879c-c35f96115a32",
   "metadata": {},
   "outputs": [],
   "source": [
    "def model(X, Y, dims, learning_rate = 0.01, epochs = 100, print_cost=False):\n",
    "    \"\"\"\n",
    "    Trains full deep neural network.\n",
    "    \n",
    "    Arguments:\n",
    "        X -- numpy array of input data, shape (flattened image pixel number, number of examples)\n",
    "        Y -- actual values\n",
    "        layers_dims -- list of layers\n",
    "        learning_rate -- learning rate\n",
    "        epochs -- number of iterations\n",
    "        print_cost -- if True, it prints the cost every 100 steps\n",
    "    \n",
    "    Returns:\n",
    "        parameters -- learned parameters.\n",
    "    \"\"\"\n",
    "\n",
    "    costs = []\n",
    "\n",
    "    parameters = initialize_parameters(dims)\n",
    "        \n",
    "    # Gradient descent\n",
    "    for i in range(0, epochs):\n",
    "\n",
    "        AL, caches = forward_propagate(X, parameters)\n",
    "        \n",
    "        cost = compute_cost(AL, Y)\n",
    "\n",
    "        grads = backward_propagate(AL, Y, caches)\n",
    "\n",
    "        parameters = update_parameters(parameters, grads, learning_rate)\n",
    "                \n",
    "        # Print the cost every 100 iterations\n",
    "        if print_cost and i % 100 == 0 or i == epochs - 1:\n",
    "            print(\"Cost after iteration {}: {}\".format(i, np.squeeze(cost)))\n",
    "        if i % 100 == 0 or i == epochs:\n",
    "            costs.append(cost)\n",
    "    \n",
    "    return parameters, costs"
   ]
  },
  {
   "cell_type": "code",
   "execution_count": 62,
   "id": "57db1ccf-9a17-445e-96a4-d8394996a7e8",
   "metadata": {},
   "outputs": [
    {
     "name": "stdout",
     "output_type": "stream",
     "text": [
      "(1, 1)\n",
      "Cost after iteration 0: 69173.69547086763\n",
      "(1, 1)\n",
      "(1, 1)\n",
      "(1, 1)\n",
      "(1, 1)\n"
     ]
    },
    {
     "ename": "KeyboardInterrupt",
     "evalue": "",
     "output_type": "error",
     "traceback": [
      "\u001b[1;31m---------------------------------------------------------------------------\u001b[0m",
      "\u001b[1;31mKeyboardInterrupt\u001b[0m                         Traceback (most recent call last)",
      "\u001b[1;32m<ipython-input-62-3b34bd7ff3c8>\u001b[0m in \u001b[0;36m<module>\u001b[1;34m\u001b[0m\n\u001b[0;32m      2\u001b[0m \u001b[0mdims\u001b[0m \u001b[1;33m=\u001b[0m \u001b[1;33m[\u001b[0m\u001b[0minput_layer\u001b[0m\u001b[1;33m,\u001b[0m \u001b[1;36m128\u001b[0m\u001b[1;33m,\u001b[0m \u001b[1;36m128\u001b[0m\u001b[1;33m,\u001b[0m \u001b[1;36m10\u001b[0m\u001b[1;33m]\u001b[0m \u001b[1;31m# set layer number and sizes\u001b[0m\u001b[1;33m\u001b[0m\u001b[1;33m\u001b[0m\u001b[0m\n\u001b[0;32m      3\u001b[0m \u001b[1;33m\u001b[0m\u001b[0m\n\u001b[1;32m----> 4\u001b[1;33m \u001b[0mparameters\u001b[0m\u001b[1;33m,\u001b[0m \u001b[0mcosts\u001b[0m \u001b[1;33m=\u001b[0m \u001b[0mmodel\u001b[0m\u001b[1;33m(\u001b[0m\u001b[0mx_train\u001b[0m\u001b[1;33m[\u001b[0m\u001b[1;33m:\u001b[0m\u001b[1;33m,\u001b[0m \u001b[1;33m:\u001b[0m\u001b[1;36m10000\u001b[0m\u001b[1;33m]\u001b[0m\u001b[1;33m,\u001b[0m \u001b[0my_train\u001b[0m\u001b[1;33m[\u001b[0m\u001b[1;33m:\u001b[0m\u001b[1;33m,\u001b[0m \u001b[1;33m:\u001b[0m\u001b[1;36m10000\u001b[0m\u001b[1;33m]\u001b[0m\u001b[1;33m,\u001b[0m \u001b[0mdims\u001b[0m\u001b[1;33m,\u001b[0m \u001b[0mlearning_rate\u001b[0m\u001b[1;33m=\u001b[0m\u001b[1;36m0.0075\u001b[0m\u001b[1;33m,\u001b[0m \u001b[0mepochs\u001b[0m \u001b[1;33m=\u001b[0m \u001b[1;36m1000\u001b[0m\u001b[1;33m,\u001b[0m \u001b[0mprint_cost\u001b[0m \u001b[1;33m=\u001b[0m \u001b[1;32mTrue\u001b[0m\u001b[1;33m)\u001b[0m\u001b[1;33m\u001b[0m\u001b[1;33m\u001b[0m\u001b[0m\n\u001b[0m",
      "\u001b[1;32m<ipython-input-11-73fd928ffdb2>\u001b[0m in \u001b[0;36mmodel\u001b[1;34m(X, Y, dims, learning_rate, epochs, print_cost)\u001b[0m\n\u001b[0;32m     24\u001b[0m         \u001b[0mAL\u001b[0m\u001b[1;33m,\u001b[0m \u001b[0mcaches\u001b[0m \u001b[1;33m=\u001b[0m \u001b[0mforward_propagate\u001b[0m\u001b[1;33m(\u001b[0m\u001b[0mX\u001b[0m\u001b[1;33m,\u001b[0m \u001b[0mparameters\u001b[0m\u001b[1;33m)\u001b[0m\u001b[1;33m\u001b[0m\u001b[1;33m\u001b[0m\u001b[0m\n\u001b[0;32m     25\u001b[0m \u001b[1;33m\u001b[0m\u001b[0m\n\u001b[1;32m---> 26\u001b[1;33m         \u001b[0mcost\u001b[0m \u001b[1;33m=\u001b[0m \u001b[0mcompute_cost\u001b[0m\u001b[1;33m(\u001b[0m\u001b[0mAL\u001b[0m\u001b[1;33m,\u001b[0m \u001b[0mY\u001b[0m\u001b[1;33m)\u001b[0m\u001b[1;33m\u001b[0m\u001b[1;33m\u001b[0m\u001b[0m\n\u001b[0m\u001b[0;32m     27\u001b[0m \u001b[1;33m\u001b[0m\u001b[0m\n\u001b[0;32m     28\u001b[0m         \u001b[0mgrads\u001b[0m \u001b[1;33m=\u001b[0m \u001b[0mbackward_propagate\u001b[0m\u001b[1;33m(\u001b[0m\u001b[0mAL\u001b[0m\u001b[1;33m,\u001b[0m \u001b[0mY\u001b[0m\u001b[1;33m,\u001b[0m \u001b[0mcaches\u001b[0m\u001b[1;33m)\u001b[0m\u001b[1;33m\u001b[0m\u001b[1;33m\u001b[0m\u001b[0m\n",
      "\u001b[1;32m<ipython-input-61-5ab67ed9d1bc>\u001b[0m in \u001b[0;36mcompute_cost\u001b[1;34m(AL, Y)\u001b[0m\n\u001b[0;32m     16\u001b[0m \u001b[1;31m#     AL = np.sum(AL, axis=1, keepdims=True)\u001b[0m\u001b[1;33m\u001b[0m\u001b[1;33m\u001b[0m\u001b[1;33m\u001b[0m\u001b[0m\n\u001b[0;32m     17\u001b[0m \u001b[1;33m\u001b[0m\u001b[0m\n\u001b[1;32m---> 18\u001b[1;33m     \u001b[0mcost\u001b[0m \u001b[1;33m=\u001b[0m \u001b[1;33m(\u001b[0m\u001b[1;36m1.\u001b[0m\u001b[1;33m/\u001b[0m\u001b[0mm\u001b[0m\u001b[1;33m)\u001b[0m \u001b[1;33m*\u001b[0m \u001b[0mnp\u001b[0m\u001b[1;33m.\u001b[0m\u001b[0msum\u001b[0m\u001b[1;33m(\u001b[0m\u001b[1;33m-\u001b[0m\u001b[0mnp\u001b[0m\u001b[1;33m.\u001b[0m\u001b[0mdot\u001b[0m\u001b[1;33m(\u001b[0m\u001b[0mY\u001b[0m\u001b[1;33m.\u001b[0m\u001b[0mT\u001b[0m\u001b[1;33m,\u001b[0m \u001b[0mnp\u001b[0m\u001b[1;33m.\u001b[0m\u001b[0mlog\u001b[0m\u001b[1;33m(\u001b[0m\u001b[0mAL\u001b[0m\u001b[1;33m)\u001b[0m\u001b[1;33m)\u001b[0m \u001b[1;33m-\u001b[0m \u001b[0mnp\u001b[0m\u001b[1;33m.\u001b[0m\u001b[0mdot\u001b[0m\u001b[1;33m(\u001b[0m\u001b[1;36m1\u001b[0m\u001b[1;33m-\u001b[0m\u001b[0mY\u001b[0m\u001b[1;33m.\u001b[0m\u001b[0mT\u001b[0m\u001b[1;33m,\u001b[0m \u001b[0mnp\u001b[0m\u001b[1;33m.\u001b[0m\u001b[0mlog\u001b[0m\u001b[1;33m(\u001b[0m\u001b[1;36m1\u001b[0m\u001b[1;33m-\u001b[0m\u001b[0mAL\u001b[0m\u001b[1;33m)\u001b[0m\u001b[1;33m)\u001b[0m\u001b[1;33m,\u001b[0m \u001b[0mkeepdims\u001b[0m\u001b[1;33m=\u001b[0m\u001b[1;32mTrue\u001b[0m\u001b[1;33m)\u001b[0m\u001b[1;33m\u001b[0m\u001b[1;33m\u001b[0m\u001b[0m\n\u001b[0m\u001b[0;32m     19\u001b[0m     \u001b[0mprint\u001b[0m\u001b[1;33m(\u001b[0m\u001b[0mcost\u001b[0m\u001b[1;33m.\u001b[0m\u001b[0mshape\u001b[0m\u001b[1;33m)\u001b[0m\u001b[1;33m\u001b[0m\u001b[1;33m\u001b[0m\u001b[0m\n\u001b[0;32m     20\u001b[0m     \u001b[0mcost\u001b[0m \u001b[1;33m=\u001b[0m \u001b[0mnp\u001b[0m\u001b[1;33m.\u001b[0m\u001b[0msqueeze\u001b[0m\u001b[1;33m(\u001b[0m\u001b[0mcost\u001b[0m\u001b[1;33m)\u001b[0m\u001b[1;33m\u001b[0m\u001b[1;33m\u001b[0m\u001b[0m\n",
      "\u001b[1;31mKeyboardInterrupt\u001b[0m: "
     ]
    }
   ],
   "source": [
    "input_layer = x_train.shape[0] # set input layer size\n",
    "dims = [input_layer, 128, 128, 10] # set layer number and sizes\n",
    "\n",
    "parameters, costs = model(x_train[:, :10000], y_train[:, :10000], dims, learning_rate=0.0075, epochs = 1000, print_cost = True)"
   ]
  },
  {
   "cell_type": "markdown",
   "id": "84792498-4dd7-410e-9ba0-9cd11e180d69",
   "metadata": {},
   "source": [
    "<a name='9'></a>\n",
    "## Predict\n",
    "\n",
    "Use forward propagation to make predictions"
   ]
  },
  {
   "cell_type": "code",
   "execution_count": 25,
   "id": "dbea25fd-a3a8-4c5d-83e1-a51e359dc4de",
   "metadata": {},
   "outputs": [],
   "source": [
    "def predict(X, y, parameters):\n",
    "    \"\"\"\n",
    "    Predicts using learned parameters.\n",
    "    \n",
    "    Arguments:\n",
    "        X -- input data\n",
    "        parameters -- parameters of the prevously trained model\n",
    "        \n",
    "    Returns:\n",
    "        right_preds -- dictionary of the right predictions\n",
    "        wrong_preds -- dictionary of the wrong predictions\n",
    "        low_confidence_preds -- dictionary of the predictions with low confidence\n",
    "    \"\"\"\n",
    "    \n",
    "    m = X.shape[1] # number of examples\n",
    "    sum_rights = 0 # number of correct predictions\n",
    "    \n",
    "    predictions = {\n",
    "        \"right\": {},\n",
    "        \"wrong\": {},\n",
    "        \"low_confidence\": {}\n",
    "    }\n",
    "\n",
    "    # Forward propagation\n",
    "    preds, caches = forward_propagate(X, parameters)\n",
    "\n",
    "    for i in range(preds.shape[1]):\n",
    "        max_pred = preds[:, i]\n",
    "        prediction = np.argmax(max_pred, axis=None)\n",
    "        actual = y[:, i].squeeze()\n",
    "        \n",
    "        if max(max_pred) < 0.1: \n",
    "            predictions['low_confidence'][i] = {\n",
    "                'pred': prediction,\n",
    "                'actual': int(actual),\n",
    "                'confidence': preds[prediction, i]\n",
    "            }\n",
    "        elif prediction == actual:\n",
    "            sum_rights += 1\n",
    "            predictions['right'][i] = {\n",
    "                'pred': prediction,\n",
    "                'actual': int(actual),\n",
    "                'confidence': preds[prediction, i]\n",
    "            }\n",
    "        else:\n",
    "            predictions['wrong'][i] = {\n",
    "                'pred': prediction,\n",
    "                'actual': int(actual),\n",
    "                'confidence': preds[prediction, i]\n",
    "            }\n",
    "\n",
    "    accuracy = sum_rights/m\n",
    "    \n",
    "    return accuracy, predictions"
   ]
  },
  {
   "cell_type": "code",
   "execution_count": 26,
   "id": "cb6d03fe-257e-4833-8baf-734df978a6b4",
   "metadata": {},
   "outputs": [
    {
     "name": "stdout",
     "output_type": "stream",
     "text": [
      "accuracy:        0.85\n",
      "correct:         85\n",
      "mistakes:        14\n",
      "low confidence:  1\n"
     ]
    }
   ],
   "source": [
    "accuracy, predictions = predict(x_test[:, :100], y_test[:, :100], parameters)\n",
    "print('accuracy:       ', accuracy)\n",
    "print('correct:        ', len(predictions['right']))\n",
    "print('mistakes:       ', len(predictions['wrong']))\n",
    "print('low confidence: ', len(predictions['low_confidence']))"
   ]
  },
  {
   "cell_type": "markdown",
   "id": "a63a9f30-6293-4a87-9ff6-86291cce5003",
   "metadata": {},
   "source": [
    "Print predictions dictionary"
   ]
  },
  {
   "cell_type": "code",
   "execution_count": 15,
   "id": "eaecf184-8d0e-465c-8bcc-c574ad8273f1",
   "metadata": {},
   "outputs": [
    {
     "name": "stdout",
     "output_type": "stream",
     "text": [
      "3 {'pred': 0, 'actual': 0, 'confidence': 0.09099509715751067}\n",
      "9 {'pred': 9, 'actual': 9, 'confidence': 0.06375696722317059}\n",
      "20 {'pred': 7, 'actual': 9, 'confidence': 0.0804298686074823}\n",
      "25 {'pred': 0, 'actual': 0, 'confidence': 0.07592232422169014}\n",
      "48 {'pred': 3, 'actual': 4, 'confidence': 0.05082428270524046}\n",
      "61 {'pred': 2, 'actual': 8, 'confidence': 0.09629625004345178}\n",
      "64 {'pred': 7, 'actual': 7, 'confidence': 0.08991692664991957}\n",
      "68 {'pred': 3, 'actual': 3, 'confidence': 0.06229189474186574}\n",
      "73 {'pred': 7, 'actual': 9, 'confidence': 0.07524066207908242}\n",
      "79 {'pred': 7, 'actual': 7, 'confidence': 0.053476509150439895}\n",
      "85 {'pred': 4, 'actual': 4, 'confidence': 0.07784257788976745}\n",
      "86 {'pred': 7, 'actual': 7, 'confidence': 0.09963417190104747}\n"
     ]
    }
   ],
   "source": [
    "print_num = 10\n",
    "num = 0\n",
    "\n",
    "for i in predictions['low_confidence']:\n",
    "    print(i, predictions['low_confidence'][i])\n",
    "    if num > print_num:\n",
    "        break\n",
    "    num += 1"
   ]
  },
  {
   "cell_type": "markdown",
   "id": "50588ac4-804d-4260-b8d0-49a525fed23c",
   "metadata": {},
   "source": [
    "<a name='10'></a>\n",
    "### Print Images\n",
    "print images in predictions dictionary"
   ]
  },
  {
   "cell_type": "code",
   "execution_count": 16,
   "id": "8419794d-eb69-45ba-b276-858b387f9a67",
   "metadata": {},
   "outputs": [],
   "source": [
    "def print_images(X, p, num_images=20):\n",
    "    \"\"\"\n",
    "    Plots images where predictions and truth were different.\n",
    "        X -- dataset\n",
    "        y -- true labels\n",
    "        p -- predictions\n",
    "    \"\"\"\n",
    "    plt.rcParams['figure.figsize'] = (40.0, 40.0) # set default size of plots\n",
    "    plt_num = 1\n",
    "    row = 1\n",
    "    for index in p:\n",
    "        plt.subplot(1, num_images, plt_num)\n",
    "        plt.imshow(X[:, index].reshape(28,28), interpolation='nearest')\n",
    "        plt.axis('off')\n",
    "        plt.title(\"Prediction: \" + str(p[index]['pred']) + \" \\n Actual: \" + str(p[index]['actual']))\n",
    "        \n",
    "        plt_num += 1\n",
    "        if plt_num % 10 == 0: \n",
    "            row+= 1\n",
    "        if plt_num >= num_images:\n",
    "            break"
   ]
  },
  {
   "cell_type": "markdown",
   "id": "1b88ca22-73c8-46cf-8495-6173e8157c24",
   "metadata": {},
   "source": [
    "Print wrong prediction images"
   ]
  },
  {
   "cell_type": "code",
   "execution_count": 17,
   "id": "e1337e0e-2b5c-4de4-9f23-2c9f41d9b9f8",
   "metadata": {},
   "outputs": [
    {
     "data": {
      "image/png": "[encoded data removed]",
      "text/plain": [
       "<Figure size 2880x2880 with 19 Axes>"
      ]
     },
     "metadata": {
      "needs_background": "light"
     },
     "output_type": "display_data"
    }
   ],
   "source": [
    "print_images(x_test, predictions['wrong'])"
   ]
  },
  {
   "cell_type": "code",
   "execution_count": null,
   "id": "15475c9f-d396-4bd1-9551-8269a60f6796",
   "metadata": {},
   "outputs": [],
   "source": []
  }
 ],
 "metadata": {
  "kernelspec": {
   "display_name": "Python 3",
   "language": "python",
   "name": "python3"
  },
  "language_info": {
   "codemirror_mode": {
    "name": "ipython",
    "version": 3
   },
   "file_extension": ".py",
   "mimetype": "text/x-python",
   "name": "python",
   "nbconvert_exporter": "python",
   "pygments_lexer": "ipython3",
   "version": "3.9.6"
  }
 },
 "nbformat": 4,
 "nbformat_minor": 5
}
